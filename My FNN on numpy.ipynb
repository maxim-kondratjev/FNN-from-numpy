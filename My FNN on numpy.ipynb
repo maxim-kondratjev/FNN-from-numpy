{
 "cells": [
  {
   "cell_type": "code",
   "execution_count": null,
   "metadata": {},
   "outputs": [],
   "source": [
    "from __future__ import print_function\n",
    "import numpy as np\n",
    "np.random.seed(42)"
   ]
  },
  {
   "cell_type": "code",
   "execution_count": null,
   "metadata": {},
   "outputs": [],
   "source": [
    "#Загружаем MNIST\n",
    "import pickle\n",
    "with open(\"mnist.dump\",\"rb\") as f:\n",
    "    mnist = pickle.load(f, encoding = \"latin1\")"
   ]
  },
  {
   "cell_type": "code",
   "execution_count": null,
   "metadata": {},
   "outputs": [],
   "source": [
    "X = mnist.data\n",
    "y = mnist.target"
   ]
  },
  {
   "cell_type": "code",
   "execution_count": null,
   "metadata": {},
   "outputs": [],
   "source": [
    "from sklearn.model_selection import train_test_split\n",
    "X_train, X_test, y_train, y_test = train_test_split(X, y, test_size = 0.3, random_state = 42)"
   ]
  },
  {
   "cell_type": "code",
   "execution_count": null,
   "metadata": {},
   "outputs": [],
   "source": [
    "y_train_transformed = []\n",
    "for number in y_train:\n",
    "    y_train_transformed.append(np.eye(10)[int(number)])\n",
    "    \n",
    "y_test_transformed = []\n",
    "for number in y_test:\n",
    "    y_test_transformed.append(np.eye(10)[int(number)])\n",
    "    \n",
    "y_train_transformed = np.array(y_train_transformed)\n",
    "y_test_transformed = np.array(y_test_transformed)"
   ]
  },
  {
   "cell_type": "code",
   "execution_count": null,
   "metadata": {},
   "outputs": [],
   "source": [
    "#Abstract Class\n",
    "class Layer:\n",
    "    def __init__ (self):\n",
    "        pass\n",
    "    \n",
    "    def forward(self, input):\n",
    "        return input\n",
    "\n",
    "    def backward(self,input, gradient_output):\n",
    "        return np.dot(grad_output, np.eye(input.shape[1]))"
   ]
  },
  {
   "cell_type": "code",
   "execution_count": null,
   "metadata": {},
   "outputs": [],
   "source": [
    "class Sigmoid(Layer):\n",
    "    def __init__(self):\n",
    "        pass\n",
    "    \n",
    "    def forward(self, input):\n",
    "        # Применить sigmoid ко всем элементам input\n",
    "        return 1. / (1. + np.exp(-input))\n",
    "    \n",
    "    def backward(self, input, gradient_output):\n",
    "        #Вычисляем градиент в точке входа ( по правилу производной сложной функции)\n",
    "        return self.forward(input) * (1 - self.forward(input)) "
   ]
  },
  {
   "cell_type": "code",
   "execution_count": null,
   "metadata": {},
   "outputs": [],
   "source": [
    "class Dense(Layer):\n",
    "    def __init__(self, input_units, output_units, learning_rate=0.1):\n",
    "        self.learning_rate = learning_rate\n",
    "        self.input_units = input_units\n",
    "        self.output_units = output_units\n",
    "        # Инициализируем веса случайными числами из нормального распределения\n",
    "        self.weights = np.random.uniform(-50, 50, (input_units, output_units))\n",
    "        self.biases = np.ones(output_units)\n",
    "        \n",
    "    def forward(self,input):\n",
    "        #Применм веса к входу по формуле Wx+b, где x - это input\n",
    "        return np.dot(input, self.weights) + self.biases\n",
    "    \n",
    "    def backward(self, input, gradient_output):\n",
    "        # Вычисляем df/d(input) = df/d(layer)*d(Layer)/d(input)\n",
    "        # d(Layer)/d(input) = Транспонированные веса \n",
    "        gradient_input = np.dot(gradient_output, self.weights.T)\n",
    "        \n",
    "        # Вычисляем градиент по весам\n",
    "        # Мы получили из предыдущего шага как должны измениться выходы на этого слоя. Это df/d(Layer)\n",
    "        # Производная d(Layer)/d(Weights) = (input)T\n",
    "        # Применяем ChainRule\n",
    "        gradient_weights = np.dot(input.T, gradient_output)\n",
    "        gradient_biases = np.reshape(np.dot(np.ones((input.shape[0], 1)).T, gradient_output), (self.output_units))\n",
    "        \n",
    "        assert gradient_weights.shape == self.weights.shape and gradient_biases.shape == self.biases.shape\n",
    "        \n",
    "        self.weights = self.weights - self.learning_rate*gradient_weights\n",
    "        self.biases = self.biases - self.learning_rate*gradient_biases\n",
    "        return gradient_input"
   ]
  },
  {
   "cell_type": "code",
   "execution_count": null,
   "metadata": {},
   "outputs": [],
   "source": [
    "def softmax_crossentropy_with_logits(logits, reference_answers):\n",
    "    logits_for_answers = logits[np.arange(len(logits)), [list(i).index(1) for i in reference_answers]]\n",
    "    xentropy = - logits_for_answers + np.log(np.sum(np.exp(logits), axis=-1))\n",
    "    return xentropy\n",
    "\n",
    "def grad_softmax_crossentropy_with_logits(logits,reference_answers):\n",
    "    ones_for_answers = np.zeros_like(logits)\n",
    "    ones_for_answers[np.arange(len(logits)), [list(i).index(1) for i in reference_answers]] = 1\n",
    "    softmax = np.exp(logits) / np.exp(logits).sum(axis=-1,keepdims=True)\n",
    "    return - ones_for_answers + softmax"
   ]
  },
  {
   "cell_type": "code",
   "execution_count": null,
   "metadata": {},
   "outputs": [],
   "source": [
    "network = []\n",
    "network.append(Dense(X_train.shape[1],64, 0.0001))\n",
    "network.append(Sigmoid())\n",
    "network.append(Dense(64,128, 0.0000001))\n",
    "network.append(Sigmoid())\n",
    "network.append(Dense(128,10, 0.1))"
   ]
  },
  {
   "cell_type": "code",
   "execution_count": null,
   "metadata": {},
   "outputs": [],
   "source": [
    "def forward(network, X):\n",
    "    activations = []\n",
    "    input = X\n",
    "   \n",
    "    activations.append(network[0].forward(input))\n",
    "    for layer in network[1:]:\n",
    "        activations.append(layer.forward(activations[-1]))\n",
    "        \n",
    "    assert len(activations) == len(network)\n",
    "    return activations\n",
    "\n",
    "def predict(network, X):\n",
    "    logits = forward(network, X)[-1]\n",
    "    return logits.argmax(axis=-1)\n",
    "\n",
    "def train(network, X, y):\n",
    "    layer_activations = forward(network,X)\n",
    "    layer_inputs = [X]+layer_activations  #layer_input[i] is an input for network[i]\n",
    "    logits = layer_activations[-1]\n",
    "    \n",
    "    # Вычисляем ошибку и градиент ошибки\n",
    "    loss = softmax_crossentropy_with_logits(logits, y)\n",
    "    loss_grad = grad_softmax_crossentropy_with_logits(logits, y)\n",
    "    \n",
    "    # Выполняем обратно распространение ошибки\n",
    "    for i in range(len(network)-1,-1,-1):\n",
    "        loss_grad = network[i].backward(layer_inputs[i], loss_grad)\n",
    "        \n",
    "    return np.mean(loss)"
   ]
  },
  {
   "cell_type": "code",
   "execution_count": null,
   "metadata": {},
   "outputs": [],
   "source": [
    "from tqdm import trange\n",
    "from tqdm import tqdm_notebook\n",
    "def iterate_minibatches(inputs, targets, batchsize, shuffle=False):\n",
    "    assert len(inputs) == len(targets)\n",
    "    if shuffle:\n",
    "        indices = np.random.permutation(len(inputs))\n",
    "    for start_idx in range(0, len(inputs) - batchsize + 1, batchsize):\n",
    "        if shuffle:\n",
    "            excerpt = indices[start_idx:start_idx + batchsize]\n",
    "        else:\n",
    "            excerpt = slice(start_idx, start_idx + batchsize)\n",
    "        yield inputs[excerpt], targets[excerpt]"
   ]
  },
  {
   "cell_type": "code",
   "execution_count": null,
   "metadata": {
    "scrolled": false
   },
   "outputs": [],
   "source": [
    "from sklearn.metrics import accuracy_score\n",
    "for i in range(3):\n",
    "    for X_batch, y_batch in iterate_minibatches(X_train, y_train_transformed, 50, True):\n",
    "        train(network, X_batch, y_batch)\n",
    "    y_mnist_train_pred = predict(network, X_train)\n",
    "    y_mnist_test_pred = predict(network, X_test)\n",
    "    print(str(accuracy_score(y_train, y_mnist_train_pred)) + ',', accuracy_score(y_test, y_mnist_test_pred))"
   ]
  }
 ],
 "metadata": {
  "anaconda-cloud": {},
  "kernelspec": {
   "display_name": "Python 3",
   "language": "python",
   "name": "python3"
  },
  "language_info": {
   "codemirror_mode": {
    "name": "ipython",
    "version": 3
   },
   "file_extension": ".py",
   "mimetype": "text/x-python",
   "name": "python",
   "nbconvert_exporter": "python",
   "pygments_lexer": "ipython3",
   "version": "3.7.0"
  }
 },
 "nbformat": 4,
 "nbformat_minor": 2
}
